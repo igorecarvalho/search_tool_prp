{
 "cells": [
  {
   "cell_type": "code",
   "execution_count": 1,
   "metadata": {},
   "outputs": [],
   "source": [
    "import nltk\n",
    "#nltk.download('stopwords')\n",
    "from nltk.corpus import stopwords\n",
    "stop_words = stopwords.words('portuguese')"
   ]
  },
  {
   "cell_type": "code",
   "execution_count": 2,
   "metadata": {},
   "outputs": [],
   "source": [
    "from pandas import DataFrame, read_csv\n",
    "import matplotlib.pyplot as plt\n",
    "import pandas as pd\n",
    "\n",
    "file_name = '../data/planilhas/PRP24 - Lista_projetos_red.xlsx'\n",
    "#file_name = 'dataset/projetos_ufla_igor.xlsx'\n",
    "field = 'Título'\n",
    "\n",
    "file = pd.read_excel(file_name)"
   ]
  },
  {
   "cell_type": "code",
   "execution_count": 3,
   "metadata": {},
   "outputs": [
    {
     "data": {
      "text/plain": [
       "Index(['Código Projeto', 'Departamento', 'Data Início', 'Data Fim',\n",
       "       'Data Cadastro', 'Data Atualização', 'Situação', 'Coordenadores',\n",
       "       'Linha de Pesquisa', 'Título', 'Palavras-chave', 'Resumo'],\n",
       "      dtype='object')"
      ]
     },
     "execution_count": 3,
     "metadata": {},
     "output_type": "execute_result"
    }
   ],
   "source": [
    "file.columns"
   ]
  },
  {
   "cell_type": "code",
   "execution_count": 4,
   "metadata": {},
   "outputs": [
    {
     "ename": "ModuleNotFoundError",
     "evalue": "No module named 'nlpnet'",
     "output_type": "error",
     "traceback": [
      "\u001b[0;31m---------------------------------------------------------------------------\u001b[0m",
      "\u001b[0;31mModuleNotFoundError\u001b[0m                       Traceback (most recent call last)",
      "\u001b[0;32m<ipython-input-4-3f06605397e2>\u001b[0m in \u001b[0;36m<module>\u001b[0;34m\u001b[0m\n\u001b[0;32m----> 1\u001b[0;31m \u001b[0;32mimport\u001b[0m \u001b[0mnlpnet\u001b[0m\u001b[0;34m\u001b[0m\u001b[0;34m\u001b[0m\u001b[0m\n\u001b[0m\u001b[1;32m      2\u001b[0m \u001b[0mnlpnet\u001b[0m\u001b[0;34m.\u001b[0m\u001b[0mset_data_dir\u001b[0m\u001b[0;34m(\u001b[0m\u001b[0;34m'models/pos-pt'\u001b[0m\u001b[0;34m)\u001b[0m\u001b[0;34m\u001b[0m\u001b[0;34m\u001b[0m\u001b[0m\n\u001b[1;32m      3\u001b[0m \u001b[0mtagger\u001b[0m \u001b[0;34m=\u001b[0m \u001b[0mnlpnet\u001b[0m\u001b[0;34m.\u001b[0m\u001b[0mPOSTagger\u001b[0m\u001b[0;34m(\u001b[0m\u001b[0;34m)\u001b[0m\u001b[0;34m\u001b[0m\u001b[0;34m\u001b[0m\u001b[0m\n\u001b[1;32m      4\u001b[0m \u001b[0;34m\u001b[0m\u001b[0m\n\u001b[1;32m      5\u001b[0m \u001b[0mprojects\u001b[0m \u001b[0;34m=\u001b[0m \u001b[0;34m[\u001b[0m\u001b[0;34m]\u001b[0m\u001b[0;34m\u001b[0m\u001b[0;34m\u001b[0m\u001b[0m\n",
      "\u001b[0;31mModuleNotFoundError\u001b[0m: No module named 'nlpnet'"
     ]
    }
   ],
   "source": [
    "import nlpnet\n",
    "nlpnet.set_data_dir('models/pos-pt')\n",
    "tagger = nlpnet.POSTagger()\n",
    "\n",
    "projects = []\n",
    "\n",
    "for column in file:\n",
    "    data_list = []\n",
    "    if column == 'Título':\n",
    "        for data in file[column]:\n",
    "            sentences = []\n",
    "            sentences = tagger.tag(data.lower())\n",
    "            aux = []\n",
    "            for sentence in sentences:\n",
    "                for token in sentence:\n",
    "                    if token[1] == 'N':\n",
    "                        aux.append(token[0])\n",
    "            data_list.append(aux)\n",
    "        projects.append(data_list)\n",
    "            \n",
    "    elif column == 'Código Projeto':\n",
    "        for data in file[column]:\n",
    "            data_list.append(data)\n",
    "        projects.append(data_list)\n",
    "            \n",
    "    elif column == 'Palavras-chave': \n",
    "        for data in file[column]:\n",
    "            sentences = []\n",
    "            sentences = tagger.tag(data.lower())\n",
    "            aux = []\n",
    "            for sentence in sentences:\n",
    "                for token in sentence:\n",
    "                    if token[1] == 'N':\n",
    "                        aux.append(token[0])\n",
    "            data_list.append(aux)\n",
    "        projects.append(data_list)"
   ]
  },
  {
   "cell_type": "code",
   "execution_count": null,
   "metadata": {},
   "outputs": [],
   "source": [
    "dic_projects = {'Código Projeto' : projects[0], 'Título' : projects[1], 'Palavras-chave' : projects[2]}\n",
    "print(dic_projects['Título'][1])"
   ]
  },
  {
   "cell_type": "code",
   "execution_count": null,
   "metadata": {},
   "outputs": [],
   "source": [
    "#carregando modelo pre treinado\n",
    "from gensim.models import KeyedVectors\n",
    "model = KeyedVectors.load_word2vec_format('models/skip_s300.txt')"
   ]
  },
  {
   "cell_type": "code",
   "execution_count": null,
   "metadata": {},
   "outputs": [],
   "source": [
    "model.wv.most_similar('água', topn=10)"
   ]
  },
  {
   "cell_type": "code",
   "execution_count": null,
   "metadata": {},
   "outputs": [],
   "source": []
  },
  {
   "cell_type": "code",
   "execution_count": null,
   "metadata": {},
   "outputs": [],
   "source": [
    "import nlpnet\n",
    "nlpnet.set_data_dir('models/pos-pt')\n",
    "tagger = nlpnet.POSTagger()\n",
    "hues = tagger.tag('o dia é um puta de um lixo, pqp. o rei ficou muito pistola')\n",
    "print(len(hues))\n",
    "for sent in hues:\n",
    "    print(sent)\n",
    "    for hue in sent:\n",
    "        if hue[1] == 'N':\n",
    "            print(hue)"
   ]
  },
  {
   "cell_type": "code",
   "execution_count": null,
   "metadata": {},
   "outputs": [],
   "source": []
  }
 ],
 "metadata": {
  "kernelspec": {
   "display_name": "Python 3",
   "language": "python",
   "name": "python3"
  },
  "language_info": {
   "codemirror_mode": {
    "name": "ipython",
    "version": 3
   },
   "file_extension": ".py",
   "mimetype": "text/x-python",
   "name": "python",
   "nbconvert_exporter": "python",
   "pygments_lexer": "ipython3",
   "version": "3.6.7"
  }
 },
 "nbformat": 4,
 "nbformat_minor": 2
}
