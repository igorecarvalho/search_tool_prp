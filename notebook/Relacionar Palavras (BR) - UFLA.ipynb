{
 "cells": [
  {
   "cell_type": "code",
   "execution_count": 4,
   "metadata": {},
   "outputs": [],
   "source": [
    "import nltk"
   ]
  },
  {
   "cell_type": "code",
   "execution_count": 5,
   "metadata": {
    "scrolled": false
   },
   "outputs": [],
   "source": [
    "#nltk.download('stopwords')\n",
    "from nltk.corpus import stopwords\n",
    "stop_words = stopwords.words('portuguese')"
   ]
  },
  {
   "cell_type": "code",
   "execution_count": 10,
   "metadata": {},
   "outputs": [],
   "source": [
    "from pandas import DataFrame, read_csv\n",
    "import matplotlib.pyplot as plt\n",
    "import pandas as pd\n",
    "\n",
    "file_name = '../data/planilhas/PRP24 - Lista_projetos_red.xlsx'\n",
    "#file_name = '../data/planilhas/projetos_ufla_igor.xlsx'\n",
    "field = 'Título'\n",
    "\n",
    "file = pd.read_excel(file_name)"
   ]
  },
  {
   "cell_type": "code",
   "execution_count": 12,
   "metadata": {},
   "outputs": [
    {
     "name": "stdout",
     "output_type": "stream",
     "text": [
      "0       Conceitos Fundamentais da Matemática: uma inve...\n",
      "1       Secagem de alimentos: Influência de uso de eta...\n",
      "2       USO DE RESÍDUOS EM LAVOURAS CAFEEIRAS:  CONDIC...\n",
      "3       Utilização de uma protease em rações de frango...\n",
      "4       Implantação do centro colaborador em defesa ag...\n",
      "5       Ação Juventude Rural-Mobilização de jovens rur...\n",
      "6       TRANSFERÊNCIA DE IMUNIDADE PASSIVA E EFEITO DE...\n",
      "7                                                 UFLA 3D\n",
      "8       RESÍDUO DA PRODUÇÃO DE BIODIESEL (FARELO DE GI...\n",
      "9       A experimentação investigativa no Ensino de Qu...\n",
      "10      Desenvolvimento de Algoritmos para Extração e ...\n",
      "11      Inteligência Computacional Aplicada A Sinais B...\n",
      "12      Avaliação dos riscos do consumo de leite e/ou ...\n",
      "13      PERFIL GENÉTICO DE ISOLADOS DE PARVOVÍRUS CANI...\n",
      "14      Síntese e caracterização de complexos metálico...\n",
      "15      USO DOS MODELOS DE CAPACIDADE DE SUPORTE DE CA...\n",
      "16      Monitoramento de longo prazo dos impactos do m...\n",
      "17      Tendências hidrológicas e climáticas na região...\n",
      "18      ESTUDO DA SITUAÇÃO ECONÔMICO-FINANCEIRA E DO P...\n",
      "19      Caracterização química do óleo das sementes de...\n",
      "20      O papel dos recursos florais no controle bioló...\n",
      "21      Impactos das mudanças globais no regime de fog...\n",
      "22      Estratificação vertical e uso do espaço por mo...\n",
      "23      Sistemática dos gêneros Molossus E. Geoffroy e...\n",
      "24                                     Gravidade Quântica\n",
      "25      ESTUDO DO NIVEL INFLAMATORIO E DA ATIVIDADE EL...\n",
      "26      DESENVOLVIMENTO DE CATALISADORES A BASE DE FER...\n",
      "27         A argumentação em gêneros do domínio midiático\n",
      "28      Atlas Digital de Anatomia Humana 2D e 3D (ADAH...\n",
      "29      Expressâo de proteínas durante o desenvolvimen...\n",
      "                              ...                        \n",
      "3039    MOVICA - Modos de vida de crianças e adolescen...\n",
      "3040    Avaliação de modelos preditivos para a estimat...\n",
      "3041    PREVALÊNCIA DE TUBERCULOSE EM BOVÍNOS ABATIDOS...\n",
      "3042    Aplicação de técnicas convencionais e não-conv...\n",
      "3043    BIOPROSPECÇÃO DE FUNGOS DE SOLO CONTAMINADO E ...\n",
      "3044    OTIMIZAÇÃO DA PRODUÇÃO DE CELULOSE BACTERIANA ...\n",
      "3045    ESTUDO DA HIDRODESOXIGENAÇÃO DE MOLÉCULAS MODE...\n",
      "3046    Estudo da produção de etanol a partir de mater...\n",
      "3047    Retenção e movimento de água, nutrientes e con...\n",
      "3048    DESEMPENHO AGRONÔMICO DE GENÓTIPOS DE CANOLA C...\n",
      "3049    Avaliação estrutural do sitio ativo da DHFR hu...\n",
      "3050    DESEMPENHO DE VACAS LEITEIRAS ALIMENTADAS COM ...\n",
      "3051    Utilização dos recursos genéticos das espécies...\n",
      "3052    Estudo prospectivo da leptospirose em cães: so...\n",
      "3053    MECANISMOS INATOS E EFETORES DA RESPOSTA IMUNO...\n",
      "3054    Avaliação do produto Alpha62 (aditivo mineral)...\n",
      "3055    Plasticidade e trade-offs em macrófitas aquáticas\n",
      "3056    FIXAÇÃO DE NITROGÊNIO POR CIANOBACTÉRIAS ASSOC...\n",
      "3057       Diagnóstico institucional da cultura em Lavras\n",
      "3058    ANÁLISE DA LEGISLAÇÃO CULTURAL DO MUNICÍPIO DE...\n",
      "3059    DESEMPENHO E DIGESTIBILIDADE DE VACAS LEITEIRA...\n",
      "3060    Dinâmicas Sociais e Sincronização em redes com...\n",
      "3061    Plasticidade e trade-offs em macrófitas aquáticas\n",
      "3062    Multiculturalismo e Diversidade nas Literatura...\n",
      "3063    RESPOSTA DE VACAS EM LACTAÇÃO A SUBSTITUIÇÃO P...\n",
      "3064    Síntese multicomponente de derivados hexaidroq...\n",
      "3065    Estudo patológico e epidemiológico das diferen...\n",
      "3066    Avaliação do processo da fração fibrosa e dos ...\n",
      "3067    Efeito antiosteoporótico da associação do &#94...\n",
      "3068    EFEITO DA SUPLEMENTAÇÃO De\\nGENGIBRE SOBRE O D...\n",
      "Name: Título, Length: 3069, dtype: object\n"
     ]
    }
   ],
   "source": [
    "print(file[field])"
   ]
  },
  {
   "cell_type": "code",
   "execution_count": 13,
   "metadata": {},
   "outputs": [],
   "source": [
    "import io\n",
    "import unidecode\n",
    "\n",
    "#nltk.download('punkt')\n",
    "from nltk.tokenize import sent_tokenize\n",
    "from nltk.tokenize import word_tokenize\n",
    "\n",
    "import re\n",
    "REPLACE_NO_SPACE = re.compile(\"(\\.)|(\\;)|(\\:)|(\\!)|(\\')|(\\?)|(\\,)|(\\\")|(\\()|(\\))|(\\[)|(\\])\")\n",
    "REPLACE_WITH_SPACE = re.compile(\"(<br\\s*/><br\\s*/>)|(\\-)|(\\/)\")\n",
    "\n",
    "dataset_path = 'dataset/artigos'\n",
    "\n",
    "corpus = []\n",
    "\n",
    "for title_acc in file[field]:\n",
    "    title = unidecode.unidecode(title_acc)\n",
    "    sent_title = (sent_tokenize(title.lower(), language='portuguese'))\n",
    "    for sentence in sent_title:\n",
    "        sentence = REPLACE_NO_SPACE.sub(\"\", sentence)\n",
    "        sentence = REPLACE_WITH_SPACE.sub(\" \", sentence)\n",
    "        sentence = word_tokenize(sentence, language='portuguese')\n",
    "        filtered_sent = []\n",
    "        for token in sentence:\n",
    "            if token not in stop_words:\n",
    "                filtered_sent.append(token)\n",
    "        corpus.append(filtered_sent)"
   ]
  },
  {
   "cell_type": "code",
   "execution_count": 14,
   "metadata": {},
   "outputs": [
    {
     "name": "stdout",
     "output_type": "stream",
     "text": [
      "3248\n",
      "['conceitos', 'fundamentais', 'matematica', 'investigacao', 'sobre', 'nexos', 'conceituais']\n"
     ]
    }
   ],
   "source": [
    "#print(len(processed_corpus))\n",
    "print(len(corpus))\n",
    "print(corpus[0])"
   ]
  },
  {
   "cell_type": "code",
   "execution_count": 26,
   "metadata": {},
   "outputs": [],
   "source": [
    "#print(processed_corpus[0])"
   ]
  },
  {
   "cell_type": "code",
   "execution_count": 27,
   "metadata": {},
   "outputs": [],
   "source": [
    "#criando word2vec\n",
    "\n",
    "from gensim.models import Word2Vec, Doc2Vec\n",
    "w2vmodel = Word2Vec(sentences=corpus,\n",
    "                    size=500,\n",
    "                    min_count=10,\n",
    "                    workers=5)"
   ]
  },
  {
   "cell_type": "code",
   "execution_count": 28,
   "metadata": {},
   "outputs": [
    {
     "name": "stderr",
     "output_type": "stream",
     "text": [
      "/home/igorecarvalho/.local/lib/python3.5/site-packages/gensim/matutils.py:737: FutureWarning: Conversion of the second argument of issubdtype from `int` to `np.signedinteger` is deprecated. In future, it will be treated as `np.int64 == np.dtype(int).type`.\n",
      "  if np.issubdtype(vec.dtype, np.int):\n"
     ]
    },
    {
     "data": {
      "text/plain": [
       "[('diferentes', 0.9985595941543579),\n",
       " ('sobre', 0.9985271692276001),\n",
       " ('qualidade', 0.9985089302062988),\n",
       " ('producao', 0.9984932541847229),\n",
       " ('avaliacao', 0.998471736907959),\n",
       " ('caracterizacao', 0.9984240531921387),\n",
       " ('analise', 0.9983972311019897),\n",
       " ('desenvolvimento', 0.9983718395233154),\n",
       " ('uso', 0.9983713030815125),\n",
       " ('especies', 0.9983682632446289),\n",
       " 'agua']"
      ]
     },
     "execution_count": 28,
     "metadata": {},
     "output_type": "execute_result"
    }
   ],
   "source": [
    "#palavras similares a:\n",
    "acc_word = 'agua'\n",
    "word = unidecode.unidecode(acc_word)\n",
    "most_words = w2vmodel.wv.most_similar(word, topn=10)\n",
    "most_words.append(word)\n",
    "most_words"
   ]
  },
  {
   "cell_type": "code",
   "execution_count": 11,
   "metadata": {},
   "outputs": [],
   "source": [
    "#vetor de relacao da palavra\n",
    "#w2vmodel.wv.get_vector(word)"
   ]
  },
  {
   "cell_type": "code",
   "execution_count": null,
   "metadata": {},
   "outputs": [],
   "source": []
  }
 ],
 "metadata": {
  "kernelspec": {
   "display_name": "Python 3",
   "language": "python",
   "name": "python3"
  },
  "language_info": {
   "codemirror_mode": {
    "name": "ipython",
    "version": 3
   },
   "file_extension": ".py",
   "mimetype": "text/x-python",
   "name": "python",
   "nbconvert_exporter": "python",
   "pygments_lexer": "ipython3",
   "version": "3.6.7"
  }
 },
 "nbformat": 4,
 "nbformat_minor": 2
}
