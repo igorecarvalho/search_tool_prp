{
 "cells": [
  {
   "cell_type": "code",
   "execution_count": 1,
   "metadata": {},
   "outputs": [],
   "source": [
    "import nltk"
   ]
  },
  {
   "cell_type": "code",
   "execution_count": 3,
   "metadata": {},
   "outputs": [],
   "source": [
    "from nltk.corpus import machado\n",
    "#machado.fileids()"
   ]
  },
  {
   "cell_type": "code",
   "execution_count": 4,
   "metadata": {},
   "outputs": [],
   "source": [
    "from nltk.corpus import floresta\n",
    "#floresta.fileids()"
   ]
  },
  {
   "cell_type": "code",
   "execution_count": 5,
   "metadata": {},
   "outputs": [],
   "source": [
    "from nltk.corpus import mac_morpho\n",
    "#mac_morpho.fileids()"
   ]
  },
  {
   "cell_type": "code",
   "execution_count": 6,
   "metadata": {},
   "outputs": [],
   "source": [
    "from nltk.corpus import stopwords\n",
    "stop_words = stopwords.words('portuguese')"
   ]
  },
  {
   "cell_type": "code",
   "execution_count": 7,
   "metadata": {},
   "outputs": [],
   "source": [
    "all_files = list(set().union(machado.fileids()))"
   ]
  },
  {
   "cell_type": "code",
   "execution_count": 8,
   "metadata": {},
   "outputs": [
    {
     "name": "stdout",
     "output_type": "stream",
     "text": [
      "[]\n",
      "DONE\n"
     ]
    }
   ],
   "source": [
    "import io\n",
    "from nltk.tokenize import word_tokenize\n",
    "\n",
    "import re\n",
    "REPLACE_NO_SPACE = re.compile(\"(\\.)|(\\;)|(\\:)|(\\!)|(\\')|(\\?)|(\\,)|(\\\")|(\\()|(\\))|(\\[)|(\\])\")\n",
    "REPLACE_WITH_SPACE = re.compile(\"(<br\\s*/><br\\s*/>)|(\\-)|(\\/)\")\n",
    "\n",
    "corpus = []\n",
    "print(corpus)\n",
    "\n",
    "#adiciona cada as linhas da lista all_files no corpus como um tipo texto\n",
    "for file in all_files:\n",
    "    \n",
    "    text_file = machado.raw(file)\n",
    "    \n",
    "    text_file = REPLACE_NO_SPACE.sub(\"\", text_file.lower())\n",
    "    text_file = REPLACE_WITH_SPACE.sub(\" \", text_file)\n",
    "    \n",
    "    filtered_text = []\n",
    "    \n",
    "    for r in text_file.split():\n",
    "        #print(\"\\nTESNTANDO: \"+r)\n",
    "        if r not in stop_words:\n",
    "            #print(\"NAO STOPWORDS: \"+r)\n",
    "            filtered_text.append(r)\n",
    "            #print(filtered_text[0:10])\n",
    "    corpus.append(filtered_text)\n",
    "    \n",
    "print(\"DONE\")"
   ]
  },
  {
   "cell_type": "code",
   "execution_count": 9,
   "metadata": {},
   "outputs": [
    {
     "name": "stdout",
     "output_type": "stream",
     "text": [
      "246\n"
     ]
    }
   ],
   "source": [
    "print(len(corpus))"
   ]
  },
  {
   "cell_type": "code",
   "execution_count": 10,
   "metadata": {},
   "outputs": [],
   "source": [
    "#criando word2vec\n",
    "\n",
    "from gensim.models import Word2Vec, Doc2Vec\n",
    "w2vmodel = Word2Vec(sentences=corpus,\n",
    "                    size=300,\n",
    "                    min_count=5,\n",
    "                    workers=3)"
   ]
  },
  {
   "cell_type": "code",
   "execution_count": 11,
   "metadata": {},
   "outputs": [],
   "source": [
    "palavra = \"selva\""
   ]
  },
  {
   "cell_type": "code",
   "execution_count": 15,
   "metadata": {},
   "outputs": [
    {
     "name": "stdout",
     "output_type": "stream",
     "text": [
      "selva\n"
     ]
    },
    {
     "data": {
      "text/plain": [
       "[('examinando', 0.9960504770278931),\n",
       " ('levam', 0.9956563711166382),\n",
       " ('extravagantes', 0.9954798221588135),\n",
       " ('recatado', 0.9953272342681885),\n",
       " ('florestas', 0.9952421188354492),\n",
       " ('devaneio', 0.9949700832366943),\n",
       " ('trezentas', 0.9946351051330566),\n",
       " ('solenes', 0.9942655563354492),\n",
       " ('curvados', 0.9940941333770752),\n",
       " ('pó', 0.9939960837364197)]"
      ]
     },
     "execution_count": 15,
     "metadata": {},
     "output_type": "execute_result"
    }
   ],
   "source": [
    "#palavras similares a:\n",
    "print(palavra)\n",
    "w2vmodel.wv.most_similar(palavra)"
   ]
  },
  {
   "cell_type": "code",
   "execution_count": 13,
   "metadata": {},
   "outputs": [
    {
     "name": "stdout",
     "output_type": "stream",
     "text": [
      "selva\n"
     ]
    },
    {
     "data": {
      "text/plain": [
       "array([-0.01873843, -0.02598023,  0.05012873,  0.02093494, -0.0018132 ,\n",
       "       -0.06015484, -0.00910482,  0.01339498, -0.0161838 , -0.01617659,\n",
       "        0.01803813, -0.00935343,  0.02837412, -0.01394736, -0.01038699,\n",
       "       -0.0022565 , -0.02266002,  0.04404737, -0.01666104, -0.01319933,\n",
       "        0.02215073, -0.02749223, -0.03089816, -0.02609558, -0.0044185 ,\n",
       "       -0.01759521, -0.00804411,  0.06396932, -0.02946798, -0.01482391,\n",
       "       -0.03928739, -0.01744707, -0.01561062, -0.03446212,  0.01398376,\n",
       "       -0.02213802, -0.03235713,  0.02232265,  0.0394191 ,  0.00775907,\n",
       "        0.0081549 ,  0.00802282,  0.10678539,  0.00938046, -0.01850627,\n",
       "        0.0097866 , -0.02310117, -0.05339115,  0.00839937, -0.02775951,\n",
       "       -0.00164526,  0.04138735, -0.02089106,  0.05463331,  0.0121038 ,\n",
       "       -0.02853562, -0.0107137 , -0.02964719,  0.00303766,  0.00119691,\n",
       "        0.00602725, -0.00197633,  0.02201089, -0.03125983, -0.00850932,\n",
       "        0.04057414,  0.02656701,  0.06813988, -0.0131045 ,  0.06047904,\n",
       "        0.00137951,  0.03122358, -0.01198333, -0.00238036, -0.01346792,\n",
       "       -0.00595361,  0.02157575,  0.03622121, -0.00809448,  0.03520237,\n",
       "        0.00566668, -0.04315025, -0.00313481,  0.01603073,  0.02511204,\n",
       "       -0.0127363 , -0.04001705, -0.00743615,  0.01440992, -0.03393297,\n",
       "        0.02296304, -0.03200563,  0.01081626,  0.00952262,  0.017901  ,\n",
       "        0.00022427, -0.01677493,  0.00397938, -0.00059654, -0.04692834,\n",
       "       -0.04180766, -0.03396845, -0.00675627,  0.01621564, -0.02571449,\n",
       "        0.01796419,  0.00409261, -0.07473157, -0.02646247,  0.01712426,\n",
       "       -0.00712238,  0.01181142, -0.02291092,  0.0064304 , -0.04927985,\n",
       "        0.00954212,  0.04097649, -0.00147304,  0.00506745, -0.00076157,\n",
       "       -0.01777852, -0.00191895, -0.00356835,  0.02605819, -0.05077409,\n",
       "       -0.03088687,  0.01061575, -0.01033512,  0.04681733, -0.00825213,\n",
       "       -0.01342566, -0.03023835, -0.06599249,  0.04271679, -0.03056277,\n",
       "        0.04085634,  0.05911529, -0.00230241,  0.01065456,  0.01620197,\n",
       "       -0.01044035, -0.03315937, -0.01827871,  0.03525109, -0.01236701,\n",
       "        0.00942752,  0.038155  ,  0.00701728, -0.00381737, -0.00814962,\n",
       "       -0.02692013,  0.01130541, -0.00466757,  0.01638753, -0.03061549,\n",
       "        0.02448602,  0.00478152, -0.0262347 ,  0.03173195,  0.03213999,\n",
       "       -0.02841836, -0.01795524, -0.01670916, -0.02091645,  0.00675963,\n",
       "       -0.01489217, -0.02399795,  0.03519443,  0.00482767, -0.00313042,\n",
       "        0.06914474,  0.01377959, -0.03895232,  0.0407405 , -0.01885745,\n",
       "       -0.03818557, -0.04212905, -0.00318122,  0.011786  , -0.01401277,\n",
       "        0.03933635, -0.01642833, -0.0095857 , -0.02504826,  0.01154418,\n",
       "       -0.0133142 ,  0.01654677, -0.00361294, -0.00673378,  0.01223627,\n",
       "        0.04692369, -0.04306291, -0.03932949, -0.05731974,  0.02284121,\n",
       "       -0.01703512,  0.05308097,  0.03851017, -0.02733626, -0.02154019,\n",
       "       -0.02066077,  0.00049117, -0.05000807,  0.02694382, -0.00826655,\n",
       "        0.02332343, -0.07522757, -0.00162083, -0.02403134,  0.02966945,\n",
       "        0.00913673, -0.00870075, -0.00518619,  0.0475733 ,  0.05498587,\n",
       "        0.00720435, -0.00185229,  0.06618486, -0.02479339,  0.01825817,\n",
       "        0.02548283,  0.02581605,  0.02831558,  0.0219386 ,  0.01542855,\n",
       "        0.02512377,  0.00260232,  0.03732723, -0.04174843, -0.01452205,\n",
       "       -0.04148051, -0.03504661,  0.00673509, -0.00304776,  0.00476464,\n",
       "       -0.00551228, -0.01307228,  0.02430614,  0.0100516 , -0.03254286,\n",
       "       -0.01708709,  0.02071306,  0.0068046 , -0.02289738,  0.03201696,\n",
       "       -0.02619323, -0.04160502, -0.05358321, -0.00384496,  0.00668957,\n",
       "        0.00202961,  0.05335974,  0.01617864, -0.02538064,  0.02037406,\n",
       "       -0.06889711, -0.01804817,  0.0177841 , -0.0011938 ,  0.02170983,\n",
       "       -0.01663174, -0.02395662,  0.03858435, -0.00140039, -0.01506001,\n",
       "       -0.03222764,  0.00409587,  0.04773007,  0.07724923,  0.0232888 ,\n",
       "        0.03609424, -0.03161977, -0.02088994,  0.01625063,  0.00740429,\n",
       "        0.01807479,  0.02432589,  0.02922786, -0.03944787,  0.02738405,\n",
       "       -0.03117688, -0.02533204, -0.02481094, -0.00619343,  0.01084361,\n",
       "       -0.00847461, -0.01141692, -0.02142012,  0.01398127,  0.06893225,\n",
       "        0.00629328, -0.00930499,  0.03356306,  0.00024448, -0.02999303,\n",
       "        0.00198087, -0.02941604,  0.03647472, -0.00672727,  0.02701837],\n",
       "      dtype=float32)"
      ]
     },
     "execution_count": 13,
     "metadata": {},
     "output_type": "execute_result"
    }
   ],
   "source": [
    "#vetor de relacao da palavra\n",
    "print(palavra)\n",
    "w2vmodel.wv.get_vector(palavra)"
   ]
  },
  {
   "cell_type": "code",
   "execution_count": null,
   "metadata": {},
   "outputs": [],
   "source": []
  },
  {
   "cell_type": "code",
   "execution_count": null,
   "metadata": {},
   "outputs": [],
   "source": []
  }
 ],
 "metadata": {
  "kernelspec": {
   "display_name": "Python 3",
   "language": "python",
   "name": "python3"
  },
  "language_info": {
   "codemirror_mode": {
    "name": "ipython",
    "version": 3
   },
   "file_extension": ".py",
   "mimetype": "text/x-python",
   "name": "python",
   "nbconvert_exporter": "python",
   "pygments_lexer": "ipython3",
   "version": "3.6.7"
  }
 },
 "nbformat": 4,
 "nbformat_minor": 2
}
